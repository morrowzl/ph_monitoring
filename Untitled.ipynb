{
 "cells": [
  {
   "cell_type": "code",
   "execution_count": 1,
   "metadata": {},
   "outputs": [],
   "source": [
    "# import dependencies\n",
    "import os\n",
    "import pandas as pd"
   ]
  },
  {
   "cell_type": "code",
   "execution_count": 2,
   "metadata": {},
   "outputs": [],
   "source": [
    "# retrieve csv file\n",
    "csv_flat = \"ph_data_flat.csv\"\n",
    "csv_date = \"ph_data_date.csv\"\n",
    "json_flat = \"pet_pals/static/data/ph_flat.json\"\n",
    "json_date = \"pet_pals/static/data/ph_date.json\"\n",
    "data_flat = pd.read_csv(csv_flat, sep=\",\", header=0, skip_blank_lines=False)\n",
    "data_date = pd.read_csv(csv_date, sep=\",\", header=0, skip_blank_lines=False)"
   ]
  },
  {
   "cell_type": "code",
   "execution_count": 3,
   "metadata": {},
   "outputs": [
    {
     "name": "stdout",
     "output_type": "stream",
     "text": [
      "    Date Source Type Source ID  Source Detail  Reading\n",
      "0  43042          MW         1              5     7.07\n",
      "1  43042          MW         1             10     6.12\n",
      "2  43042          MW         1             15     5.59\n",
      "3  43042          MW         2              5     6.05\n",
      "4  43042          MW         2             10     6.12\n",
      "       Date  MW-1-5  MW-1-10  MW-1-15  MW-2-5  MW-2-10  MW-2-15  MW-3-5  \\\n",
      "0   11/3/17    7.07     6.12     5.59    6.05     6.12     6.11    6.62   \n",
      "1  11/29/17    4.00     4.35     4.38    6.22     6.20     6.19    5.77   \n",
      "2  12/13/17    5.37     5.64     5.51    6.63     6.38     6.33    6.08   \n",
      "3  12/29/17    5.40     5.45     5.37    6.47     6.50     6.46    6.12   \n",
      "4   1/11/18    6.55     6.33     6.14    6.78     6.59     6.52    6.72   \n",
      "\n",
      "   MW-3-10  MW-3-15  ...  S-PT-25  S-PT-30  SW-BRIDGE-1  SW-CONFLUENCE-1  \\\n",
      "0     6.47     6.34  ...     5.47      NaN          NaN              NaN   \n",
      "1     5.94     5.96  ...     5.97     5.93          NaN              NaN   \n",
      "2     6.16     6.18  ...     6.37     6.39          NaN              NaN   \n",
      "3     6.29     6.31  ...     6.57     6.56          NaN              NaN   \n",
      "4     6.53     6.43  ...     6.50     6.48          NaN              NaN   \n",
      "\n",
      "   CAL-STT-4  CAL-STT-7  CAL-STT-10  CAL-STP-4  CAL-STP-7  CAL-STP-10  \n",
      "0        NaN        NaN         NaN        NaN        NaN         NaN  \n",
      "1        NaN        NaN         NaN        NaN        NaN         NaN  \n",
      "2        NaN        NaN         NaN        NaN        NaN         NaN  \n",
      "3        NaN        NaN         NaN        NaN        NaN         NaN  \n",
      "4        NaN        NaN         NaN        NaN        NaN         NaN  \n",
      "\n",
      "[5 rows x 66 columns]\n"
     ]
    }
   ],
   "source": [
    "print(data_flat.head())\n",
    "print(data_date.head())"
   ]
  },
  {
   "cell_type": "code",
   "execution_count": 4,
   "metadata": {},
   "outputs": [],
   "source": [
    "df_flat = pd.DataFrame(data=data_flat)\n",
    "df_date = pd.DataFrame(data=data_date)"
   ]
  },
  {
   "cell_type": "code",
   "execution_count": 5,
   "metadata": {},
   "outputs": [
    {
     "name": "stdout",
     "output_type": "stream",
     "text": [
      "    Date Source Type Source ID  Source Detail  Reading\n",
      "0  43042          MW         1              5     7.07\n",
      "1  43042          MW         1             10     6.12\n",
      "2  43042          MW         1             15     5.59\n",
      "3  43042          MW         2              5     6.05\n",
      "4  43042          MW         2             10     6.12\n",
      "       Date  MW-1-5  MW-1-10  MW-1-15  MW-2-5  MW-2-10  MW-2-15  MW-3-5  \\\n",
      "0   11/3/17    7.07     6.12     5.59    6.05     6.12     6.11    6.62   \n",
      "1  11/29/17    4.00     4.35     4.38    6.22     6.20     6.19    5.77   \n",
      "2  12/13/17    5.37     5.64     5.51    6.63     6.38     6.33    6.08   \n",
      "3  12/29/17    5.40     5.45     5.37    6.47     6.50     6.46    6.12   \n",
      "4   1/11/18    6.55     6.33     6.14    6.78     6.59     6.52    6.72   \n",
      "\n",
      "   MW-3-10  MW-3-15  ...  S-PT-25  S-PT-30  SW-BRIDGE-1  SW-CONFLUENCE-1  \\\n",
      "0     6.47     6.34  ...     5.47      NaN          NaN              NaN   \n",
      "1     5.94     5.96  ...     5.97     5.93          NaN              NaN   \n",
      "2     6.16     6.18  ...     6.37     6.39          NaN              NaN   \n",
      "3     6.29     6.31  ...     6.57     6.56          NaN              NaN   \n",
      "4     6.53     6.43  ...     6.50     6.48          NaN              NaN   \n",
      "\n",
      "   CAL-STT-4  CAL-STT-7  CAL-STT-10  CAL-STP-4  CAL-STP-7  CAL-STP-10  \n",
      "0        NaN        NaN         NaN        NaN        NaN         NaN  \n",
      "1        NaN        NaN         NaN        NaN        NaN         NaN  \n",
      "2        NaN        NaN         NaN        NaN        NaN         NaN  \n",
      "3        NaN        NaN         NaN        NaN        NaN         NaN  \n",
      "4        NaN        NaN         NaN        NaN        NaN         NaN  \n",
      "\n",
      "[5 rows x 66 columns]\n"
     ]
    }
   ],
   "source": [
    "print(df_flat.head())\n",
    "print(df_date.head())"
   ]
  },
  {
   "cell_type": "code",
   "execution_count": 6,
   "metadata": {},
   "outputs": [],
   "source": [
    "# export as json file\n",
    "df_flat.to_json(json_flat)\n",
    "df_date.to_json(json_date)"
   ]
  },
  {
   "cell_type": "code",
   "execution_count": null,
   "metadata": {},
   "outputs": [],
   "source": []
  }
 ],
 "metadata": {
  "kernelspec": {
   "display_name": "Python 3",
   "language": "python",
   "name": "python3"
  },
  "language_info": {
   "codemirror_mode": {
    "name": "ipython",
    "version": 3
   },
   "file_extension": ".py",
   "mimetype": "text/x-python",
   "name": "python",
   "nbconvert_exporter": "python",
   "pygments_lexer": "ipython3",
   "version": "3.7.6"
  }
 },
 "nbformat": 4,
 "nbformat_minor": 4
}
